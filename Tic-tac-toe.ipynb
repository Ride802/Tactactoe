{
 "cells": [
  {
   "cell_type": "code",
   "execution_count": 1,
   "metadata": {},
   "outputs": [],
   "source": [
    "import os"
   ]
  },
  {
   "cell_type": "code",
   "execution_count": 2,
   "metadata": {},
   "outputs": [],
   "source": [
    "def clear_screen():\n",
    "    os.system('cls' if os.name == 'nt' else 'clear')"
   ]
  },
  {
   "cell_type": "code",
   "execution_count": 3,
   "metadata": {},
   "outputs": [],
   "source": [
    "def print_board(board):\n",
    "    clear_screen()\n",
    "    for row in range(3):\n",
    "        print(\" | \".join(board[row * 3:(row + 1) * 3]))\n",
    "        if row < 2:\n",
    "            print(\"-\" * 9)"
   ]
  },
  {
   "cell_type": "code",
   "execution_count": 4,
   "metadata": {},
   "outputs": [],
   "source": [
    "def check_winner(board, player):\n",
    "    #check rows (cells 0, 3, and 6)\n",
    "    for i in range(0, 9, 3):\n",
    "        if board[i] == board[i+1] == board[i+2] == player:\n",
    "            return True\n",
    "    #check columns (cells 0, 1, and 2)\n",
    "    for i in range(3):\n",
    "        if board[i] == board[i+3] == board[i+6] == player:\n",
    "            return True\n",
    "    # check diagonals (hard coded values for both diagonals)\n",
    "    if board[0] == board[4] == board[8] == player:\n",
    "        return True\n",
    "    if board[2] == board[4] == board[6] == player:\n",
    "        return True\n",
    "    return False        "
   ]
  },
  {
   "cell_type": "code",
   "execution_count": 5,
   "metadata": {},
   "outputs": [],
   "source": [
    "# checks if any cells are not equal to an empty space\n",
    "def is_board_full(board):\n",
    "    return all(cell != ' ' for cell in board)"
   ]
  },
  {
   "cell_type": "code",
   "execution_count": 6,
   "metadata": {},
   "outputs": [],
   "source": [
    "def play_tictactoe():\n",
    "    print(\"Welcome to Tic-Tac-Toe!\")\n",
    "    print(\"Positions are numbered 1-9 from left to right, top to bottom.\")\n",
    "    # the board is a list of 9 empty spaces representing the nine cells of the tic-tac-tow board\n",
    "    board = [' ' for i in range(9)]\n",
    "    current_player = 'X'\n",
    "    \n",
    "    while True:\n",
    "        print_board(board)\n",
    "        print(\"{}'s turn\".format(current_player))\n",
    "        \n",
    "        while True:\n",
    "            try:\n",
    "                # The move is representative of the cell (minus 1 becuase the index starts at 0)\n",
    "                move = int(input(\"Enter a position (1-9): \")) - 1\n",
    "                # if the move is within the range and the space is open, \n",
    "                if 0 <= move <= 8 and board[move] == ' ':\n",
    "                    break\n",
    "                else:\n",
    "                    print('Invalid move. Try again.')\n",
    "            except ValueError:\n",
    "                print('Please enter a number between 1 and 9')\n",
    "    \n",
    "        # updates the cell to a string 'X' \n",
    "        board[move] = current_player\n",
    "    \n",
    "        # check for winner\n",
    "        if check_winner(board, current_player):\n",
    "            print_board(board)\n",
    "            print('{} wins!'.format(current_player))\n",
    "            break\n",
    "        \n",
    "        # check for draw\n",
    "        if is_board_full(board):\n",
    "            print_board(board)\n",
    "            print(\"It's a tie\")\n",
    "            break\n",
    "        \n",
    "        # switch player\n",
    "        current_player = 'O' if current_player == 'X' else 'X'\n",
    "        \n",
    "    # game ending (play again)    \n",
    "    while True:\n",
    "        play_again = input(\"Would you like to play again? (y/n): \").lower()\n",
    "        if play_again in ['y', 'n']:\n",
    "            break\n",
    "        print(\"Invalid input. Please enter 'y' or 'n'.\")\n",
    "    if play_again == 'y':\n",
    "        play_connectfour()\n",
    "    elif play_again == 'n':\n",
    "        print('Thanks for playing! -ayomateo')"
   ]
  },
  {
   "cell_type": "code",
   "execution_count": null,
   "metadata": {},
   "outputs": [
    {
     "name": "stdout",
     "output_type": "stream",
     "text": [
      "Welcome to Tic-Tac-Toe!\n",
      "Positions are numbered 1-9 from left to right, top to bottom.\n",
      "  |   |  \n",
      "---------\n",
      "  |   |  \n",
      "---------\n",
      "  |   |  \n",
      "X's turn\n"
     ]
    }
   ],
   "source": [
    "play_tictactoe()"
   ]
  },
  {
   "cell_type": "code",
   "execution_count": null,
   "metadata": {},
   "outputs": [],
   "source": []
  }
 ],
 "metadata": {
  "kernelspec": {
   "display_name": "Python 3",
   "language": "python",
   "name": "python3"
  },
  "language_info": {
   "codemirror_mode": {
    "name": "ipython",
    "version": 3
   },
   "file_extension": ".py",
   "mimetype": "text/x-python",
   "name": "python",
   "nbconvert_exporter": "python",
   "pygments_lexer": "ipython3",
   "version": "3.8.5"
  }
 },
 "nbformat": 4,
 "nbformat_minor": 4
}
